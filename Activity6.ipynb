{
  "nbformat": 4,
  "nbformat_minor": 0,
  "metadata": {
    "colab": {
      "provenance": [],
      "authorship_tag": "ABX9TyNqJCgEqmeXwr7KEMEpDiLC",
      "include_colab_link": true
    },
    "kernelspec": {
      "name": "python3",
      "display_name": "Python 3"
    },
    "language_info": {
      "name": "python"
    }
  },
  "cells": [
    {
      "cell_type": "markdown",
      "metadata": {
        "id": "view-in-github",
        "colab_type": "text"
      },
      "source": [
        "<a href=\"https://colab.research.google.com/github/hooper625/College/blob/main/Activity6.ipynb\" target=\"_parent\"><img src=\"https://colab.research.google.com/assets/colab-badge.svg\" alt=\"Open In Colab\"/></a>"
      ]
    },
    {
      "cell_type": "code",
      "execution_count": 38,
      "metadata": {
        "colab": {
          "base_uri": "https://localhost:8080/"
        },
        "id": "9oxnVMwHj7KU",
        "outputId": "f7f88d52-00a6-47b8-ea9f-e6e55a4f00d8"
      },
      "outputs": [
        {
          "output_type": "stream",
          "name": "stdout",
          "text": [
            "The Average is: 1.26\n",
            "Standard Deviation of factor_1: 0.01\n",
            "Values of factor_1:\n",
            "1.255      1600.2    \n",
            "1.258      1610.02   \n",
            "1.249      1618.07   \n",
            "1.253      1624.4    \n",
            "1.258      1626.15   \n",
            "1.263      1626.15   \n",
            "1.264      1626.15   \n",
            "Rows and price of [4, 2, 5]:    factor_1    price\n",
            "4     1.258  1626.15\n",
            "2     1.249  1618.07\n",
            "5     1.263  1626.15\n"
          ]
        }
      ],
      "source": [
        "import pandas as pd\n",
        "import statistics\n",
        "csv_file = '/content/sample_data/values.csv'\n",
        "# Read the CSV file into a DataFrame\n",
        "df = pd.read_csv(csv_file)\n",
        "#retre\n",
        "values = df['factor_1']\n",
        "price = df['price']\n",
        "\n",
        "#print the average\n",
        "averageValue = round(statistics.mean(df['factor_1']),2)\n",
        "print(f\"The Average is: {averageValue}\")\n",
        "# Print the standard deviation\n",
        "stdevValues = round(statistics.stdev(df['factor_1']), 2)\n",
        "print(f\"Standard Deviation of factor_1: {stdevValues}\")\n",
        "#display the row indexes 4, 2, 5 and columns factor_1\n",
        "rows= df.iloc[[4, 2, 5],  [df.columns.get_loc('factor_1'), df.columns.get_loc('price')]]\n",
        "print(f\"Values of factor_1:\")\n",
        "for v, p in zip(values, price):\n",
        "    print(f\"{v:<10} {p:<10}\")\n",
        "print(f\"Rows and price of [4, 2, 5]: {rows}\")"
      ]
    }
  ]
}