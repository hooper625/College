{
  "nbformat": 4,
  "nbformat_minor": 0,
  "metadata": {
    "colab": {
      "provenance": [],
      "authorship_tag": "ABX9TyM+hF1F7Y9htAC/FSKS6gG5",
      "include_colab_link": true
    },
    "kernelspec": {
      "name": "python3",
      "display_name": "Python 3"
    },
    "language_info": {
      "name": "python"
    }
  },
  "cells": [
    {
      "cell_type": "markdown",
      "metadata": {
        "id": "view-in-github",
        "colab_type": "text"
      },
      "source": [
        "<a href=\"https://colab.research.google.com/github/hooper625/College/blob/main/Activity7.ipynb\" target=\"_parent\"><img src=\"https://colab.research.google.com/assets/colab-badge.svg\" alt=\"Open In Colab\"/></a>"
      ]
    },
    {
      "cell_type": "code",
      "execution_count": 12,
      "metadata": {
        "colab": {
          "base_uri": "https://localhost:8080/"
        },
        "id": "DvsWuUedvVn8",
        "outputId": "8d4737d0-d354-4783-fb82-371fb4616108"
      },
      "outputs": [
        {
          "output_type": "stream",
          "name": "stdout",
          "text": [
            "The array is:\n",
            "[[19 57  3 97 30]\n",
            " [12 24 25 82 20]\n",
            " [61 61 66 54 41]]\n",
            "The Data Frame is:\n",
            "    1   2   3   4   5\n",
            "a  19  57   3  97  30\n",
            "b  12  24  25  82  20\n",
            "c  61  61  66  54  41\n",
            "The Data Frame transposed is:\n",
            "    a   b   c\n",
            "1  19  12  61\n",
            "2  57  24  61\n",
            "3   3  25  66\n",
            "4  97  82  54\n",
            "5  30  20  41\n",
            "The Data Frame with values less than 40 set to 0 is:\n",
            "    a   b   c\n",
            "1   0   0  61\n",
            "2  57   0  61\n",
            "3   0   0  66\n",
            "4  97  82  54\n",
            "5   0   0  41\n"
          ]
        }
      ],
      "source": [
        "import numpy as np\n",
        "import pandas as pd\n",
        "\n",
        "#Create a numpy array of the shape (3,5) with random values from 1 to 100\n",
        "array = np.random.randint(1, 100, (3, 5))\n",
        "print(f\"The array is:\")\n",
        "print(array)\n",
        "#generate a Data Frame with index = a,b,c and columns 1.2,3,4,5.\n",
        "df = pd.DataFrame(array, index=['a', 'b', 'c'], columns=[1, 2, 3, 4, 5])\n",
        "print(f\"The Data Frame is:\")\n",
        "print(df)\n",
        "#Transpose the DataFrame\n",
        "print(f\"The Data Frame transposed is:\")\n",
        "transposed = df.T\n",
        "print(transposed)\n",
        "#Changed the values less than 40 to 0 in the Data Frame\n",
        "transposed[transposed < 40] = 0\n",
        "print(f\"The Data Frame with values less than 40 set to 0 is:\")\n",
        "print(transposed)"
      ]
    }
  ]
}