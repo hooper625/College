{
  "nbformat": 4,
  "nbformat_minor": 0,
  "metadata": {
    "colab": {
      "provenance": [],
      "toc_visible": true,
      "authorship_tag": "ABX9TyPQD7TH8VGwVtrZw7TsWhf6",
      "include_colab_link": true
    },
    "kernelspec": {
      "name": "python3",
      "display_name": "Python 3"
    },
    "language_info": {
      "name": "python"
    }
  },
  "cells": [
    {
      "cell_type": "markdown",
      "metadata": {
        "id": "view-in-github",
        "colab_type": "text"
      },
      "source": [
        "<a href=\"https://colab.research.google.com/github/hooper625/College/blob/main/Activity_4_CS620.ipynb\" target=\"_parent\"><img src=\"https://colab.research.google.com/assets/colab-badge.svg\" alt=\"Open In Colab\"/></a>"
      ]
    },
    {
      "cell_type": "code",
      "source": [
        "import numpy as np\n",
        "\n",
        "# Consider the two-dimensional array, arr\n",
        "arr = np.arange(12).reshape(4, 3)\n",
        "\n",
        "# Find the summation of the middle column by skipping the 2 middle rows\n",
        "first_element = arr[0, 1]\n",
        "last_element = arr[3, 1]\n",
        "middle_column_sum = first_element + last_element\n",
        "\n",
        "#Answer: 1 + 10 = 11\n",
        "print(f\"Answer: {first_element} + {last_element} = {middle_column_sum}\")"
      ],
      "metadata": {
        "colab": {
          "base_uri": "https://localhost:8080/"
        },
        "id": "NTcSKCknvmDM",
        "outputId": "3b2fa33d-fa8c-493c-cdb2-c455e084ce48"
      },
      "execution_count": 7,
      "outputs": [
        {
          "output_type": "stream",
          "name": "stdout",
          "text": [
            "Answer: 1 + 10 = 11\n"
          ]
        }
      ]
    }
  ]
}