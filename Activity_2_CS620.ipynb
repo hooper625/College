{
  "nbformat": 4,
  "nbformat_minor": 0,
  "metadata": {
    "colab": {
      "provenance": [],
      "toc_visible": true,
      "authorship_tag": "ABX9TyONj6iLysTr1dbEgTjwqWnp",
      "include_colab_link": true
    },
    "kernelspec": {
      "name": "python3",
      "display_name": "Python 3"
    },
    "language_info": {
      "name": "python"
    }
  },
  "cells": [
    {
      "cell_type": "markdown",
      "metadata": {
        "id": "view-in-github",
        "colab_type": "text"
      },
      "source": [
        "<a href=\"https://colab.research.google.com/github/hooper625/College/blob/main/Activity_2_CS620.ipynb\" target=\"_parent\"><img src=\"https://colab.research.google.com/assets/colab-badge.svg\" alt=\"Open In Colab\"/></a>"
      ]
    },
    {
      "cell_type": "code",
      "source": [
        "#Given the list of strings called breakfast\n",
        "breakfast = ['apple', 'egg', 'ham', 'donut', 'bagels', 'sausage']\n",
        "#return a list of the strings where the length is greater than 3\n",
        "def filter_strings(breakfast):\n",
        "  #using a filter and a lambda function.\n",
        "  result = list(filter(lambda x: len(x) > 3, breakfast))\n",
        "  return result\n",
        "\n",
        "print(filter_strings(breakfast))\n"
      ],
      "metadata": {
        "colab": {
          "base_uri": "https://localhost:8080/"
        },
        "id": "r9UcQDDKrldC",
        "outputId": "58c65e5c-5a13-45ad-9541-8c9b749ff1dd"
      },
      "execution_count": 4,
      "outputs": [
        {
          "output_type": "stream",
          "name": "stdout",
          "text": [
            "['apple', 'donut', 'bagels', 'sausage']\n"
          ]
        }
      ]
    }
  ]
}