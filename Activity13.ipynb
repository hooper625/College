{
  "nbformat": 4,
  "nbformat_minor": 0,
  "metadata": {
    "colab": {
      "provenance": [],
      "authorship_tag": "ABX9TyNj64HeIIhZ1iPMGcoY5ble",
      "include_colab_link": true
    },
    "kernelspec": {
      "name": "python3",
      "display_name": "Python 3"
    },
    "language_info": {
      "name": "python"
    }
  },
  "cells": [
    {
      "cell_type": "markdown",
      "metadata": {
        "id": "view-in-github",
        "colab_type": "text"
      },
      "source": [
        "<a href=\"https://colab.research.google.com/github/hooper625/College/blob/main/Activity13.ipynb\" target=\"_parent\"><img src=\"https://colab.research.google.com/assets/colab-badge.svg\" alt=\"Open In Colab\"/></a>"
      ]
    },
    {
      "cell_type": "code",
      "execution_count": 8,
      "metadata": {
        "colab": {
          "base_uri": "https://localhost:8080/",
          "height": 383
        },
        "id": "ui8mXF7wJWnx",
        "outputId": "1b937e02-b45b-410c-995a-af15bd254b63"
      },
      "outputs": [
        {
          "output_type": "error",
          "ename": "ModuleNotFoundError",
          "evalue": "No module named 'xmltodict'",
          "traceback": [
            "\u001b[0;31m---------------------------------------------------------------------------\u001b[0m",
            "\u001b[0;31mModuleNotFoundError\u001b[0m                       Traceback (most recent call last)",
            "\u001b[0;32m<ipython-input-8-0e2cc11844a5>\u001b[0m in \u001b[0;36m<cell line: 4>\u001b[0;34m()\u001b[0m\n\u001b[1;32m      2\u001b[0m \u001b[0;32mfrom\u001b[0m \u001b[0mxml\u001b[0m\u001b[0;34m.\u001b[0m\u001b[0mdom\u001b[0m \u001b[0;32mimport\u001b[0m \u001b[0mminidom\u001b[0m\u001b[0;34m\u001b[0m\u001b[0;34m\u001b[0m\u001b[0m\n\u001b[1;32m      3\u001b[0m \u001b[0;32mimport\u001b[0m \u001b[0mjson\u001b[0m\u001b[0;34m\u001b[0m\u001b[0;34m\u001b[0m\u001b[0m\n\u001b[0;32m----> 4\u001b[0;31m \u001b[0;32mimport\u001b[0m \u001b[0mxmltodict\u001b[0m\u001b[0;34m\u001b[0m\u001b[0;34m\u001b[0m\u001b[0m\n\u001b[0m\u001b[1;32m      5\u001b[0m \u001b[0;34m\u001b[0m\u001b[0m\n\u001b[1;32m      6\u001b[0m \u001b[0;31m# Function to pretty-print the XML without excessive spaces or newlines\u001b[0m\u001b[0;34m\u001b[0m\u001b[0;34m\u001b[0m\u001b[0m\n",
            "\u001b[0;31mModuleNotFoundError\u001b[0m: No module named 'xmltodict'",
            "",
            "\u001b[0;31m---------------------------------------------------------------------------\u001b[0;32m\nNOTE: If your import is failing due to a missing package, you can\nmanually install dependencies using either !pip or !apt.\n\nTo view examples of installing some common dependencies, click the\n\"Open Examples\" button below.\n\u001b[0;31m---------------------------------------------------------------------------\u001b[0m\n"
          ],
          "errorDetails": {
            "actions": [
              {
                "action": "open_url",
                "actionText": "Open Examples",
                "url": "/notebooks/snippets/importing_libraries.ipynb"
              }
            ]
          }
        }
      ],
      "source": [
        "import xml.etree.ElementTree as ET\n",
        "from xml.dom import minidom\n",
        "import json\n",
        "import xmltodict\n",
        "\n",
        "# Function to pretty-print the XML without excessive spaces or newlines\n",
        "def pretty_print_xml(elem):\n",
        "    raw_str = ET.tostring(elem, 'utf-8')\n",
        "    parsed = minidom.parseString(raw_str)\n",
        "    return \"\\n\".join([line for line in parsed.toprettyxml(indent=\"  \").splitlines() if line.strip()])\n",
        "\n",
        "# Create the initial XML content as a string\n",
        "xml_content = '''<bookstore>\n",
        "     <book category=\"sci-fi\">\n",
        "          <title lang=\"en\">2001</title>\n",
        "          <author>Arthur C. Clarke</author>\n",
        "          <price>$30.0</price>\n",
        "          <year>1968</year>\n",
        "     </book>\n",
        "     <book>\n",
        "          <title lang=\"rs\">Story about a True Man</title>\n",
        "          <author>Boris Polevoy</author>\n",
        "          <price>$20.00</price>\n",
        "          <year>1952</year>\n",
        "     </book>\n",
        "</bookstore>'''\n",
        "# Parse the XML content\n",
        "root = ET.fromstring(xml_content)\n",
        "\n",
        "# Pretty-print the XML\n",
        "pretty_xml_str = pretty_print_xml(root)\n",
        "\n",
        "# Print the pretty-printed version of the updated XML\n",
        "print(f'\\nNew XML:\\n{pretty_xml_str}')\n",
        "\n",
        "# Save the pretty-printed XML back to the file\n",
        "with open('bookstore.xml', 'w') as f:\n",
        "    f.write(pretty_xml_str)\n",
        "\n",
        "#convert to a dictionary\n",
        "with open('bookstore.xml', 'r') as f:\n",
        "    xml_data = f.read()\n",
        "    xml_dict = xmltodict.parse(xml_data)\n",
        "\n",
        "#convert to json\n",
        "json_file = json.dumps(xml_dict, indent=4)\n",
        "with open('bookstore.json', 'w') as f:\n",
        "    f.write(json_file)\n",
        "\n",
        "print(f'\\nJSON Output:\\n{json_file}')\n",
        "\n"
      ]
    }
  ]
}