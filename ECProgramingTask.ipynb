{
  "nbformat": 4,
  "nbformat_minor": 0,
  "metadata": {
    "colab": {
      "provenance": [],
      "authorship_tag": "ABX9TyPpOuy7nl8jGEN/N7yozW6d",
      "include_colab_link": true
    },
    "kernelspec": {
      "name": "python3",
      "display_name": "Python 3"
    },
    "language_info": {
      "name": "python"
    }
  },
  "cells": [
    {
      "cell_type": "markdown",
      "metadata": {
        "id": "view-in-github",
        "colab_type": "text"
      },
      "source": [
        "<a href=\"https://colab.research.google.com/github/hooper625/College/blob/main/ECProgramingTask.ipynb\" target=\"_parent\"><img src=\"https://colab.research.google.com/assets/colab-badge.svg\" alt=\"Open In Colab\"/></a>"
      ]
    },
    {
      "cell_type": "code",
      "execution_count": 4,
      "metadata": {
        "id": "dtE_sKFCFOn-"
      },
      "outputs": [],
      "source": [
        "import pandas as pd"
      ]
    },
    {
      "cell_type": "code",
      "source": [
        "csv_file = 'friend-count.csv'"
      ],
      "metadata": {
        "id": "hl5Jn8dfFSwk"
      },
      "execution_count": 5,
      "outputs": []
    },
    {
      "cell_type": "code",
      "source": [
        "# Read the CSV file into a DataFrame\n",
        "df = pd.read_csv(\"../content/data/friend-count.csv\")\n",
        "\n",
        "# Add a column for the first letter of each user's name\n",
        "df['FirstLetter'] = df['USER'].str[0]\n",
        "\n",
        "# Group by the first letter of the name\n",
        "grouped = df.groupby('FirstLetter').agg(\n",
        "    users=('USER', 'count'),\n",
        "    total_friends=(' FRIENDCOUNT', 'sum')\n",
        ").reset_index()\n",
        "\n",
        "# Print the results\n",
        "for _, row in grouped.iterrows():\n",
        "    print(f\"{row['FirstLetter']} - {row['users']} users, {row['total_friends']} total friends\")"
      ],
      "metadata": {
        "colab": {
          "base_uri": "https://localhost:8080/"
        },
        "id": "VzaSw-vmFeNO",
        "outputId": "bb1c1e4b-4b9b-4f3f-9a52-ed0825943a52"
      },
      "execution_count": 12,
      "outputs": [
        {
          "output_type": "stream",
          "name": "stdout",
          "text": [
            "A - 7 users, 2141 total friends\n",
            "B - 2 users, 733 total friends\n",
            "C - 5 users, 3206 total friends\n",
            "D - 4 users, 2088 total friends\n",
            "E - 6 users, 4228 total friends\n",
            "F - 1 users, 210 total friends\n",
            "H - 4 users, 2571 total friends\n",
            "I - 1 users, 1145 total friends\n",
            "J - 6 users, 2989 total friends\n",
            "K - 7 users, 7919 total friends\n",
            "L - 2 users, 433 total friends\n",
            "M - 7 users, 2999 total friends\n",
            "N - 5 users, 2921 total friends\n",
            "O - 6 users, 1406 total friends\n",
            "P - 2 users, 472 total friends\n",
            "R - 4 users, 1950 total friends\n",
            "S - 9 users, 4906 total friends\n",
            "T - 6 users, 4745 total friends\n",
            "U - 5 users, 1605 total friends\n",
            "V - 3 users, 1675 total friends\n",
            "W - 6 users, 2840 total friends\n"
          ]
        }
      ]
    }
  ]
}