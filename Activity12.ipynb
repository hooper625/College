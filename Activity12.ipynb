{
  "nbformat": 4,
  "nbformat_minor": 0,
  "metadata": {
    "colab": {
      "provenance": [],
      "authorship_tag": "ABX9TyPyYw7VE9MdaRcwofg/+Bwl",
      "include_colab_link": true
    },
    "kernelspec": {
      "name": "python3",
      "display_name": "Python 3"
    },
    "language_info": {
      "name": "python"
    }
  },
  "cells": [
    {
      "cell_type": "markdown",
      "metadata": {
        "id": "view-in-github",
        "colab_type": "text"
      },
      "source": [
        "<a href=\"https://colab.research.google.com/github/hooper625/College/blob/main/Activity12.ipynb\" target=\"_parent\"><img src=\"https://colab.research.google.com/assets/colab-badge.svg\" alt=\"Open In Colab\"/></a>"
      ]
    },
    {
      "cell_type": "code",
      "execution_count": 15,
      "metadata": {
        "colab": {
          "base_uri": "https://localhost:8080/"
        },
        "id": "bB40L_W--IuV",
        "outputId": "93e59b98-ce5b-4cc3-ee8c-8678f139e870"
      },
      "outputs": [
        {
          "output_type": "stream",
          "name": "stdout",
          "text": [
            "\n",
            "New XML (Pretty Printed):\n",
            "<?xml version=\"1.0\" ?>\n",
            "<root>\n",
            "  <catfood type=\"basic\">\n",
            "    <manufacturer>\n",
            "      <name>Purina</name>\n",
            "    </manufacturer>\n",
            "    <contact>\n",
            "      <address class=\"USA\">12 Cat Way…</address>\n",
            "    </contact>\n",
            "    <date>2019-10-01</date>\n",
            "  </catfood>\n",
            "  <catfood type=\"wet\">\n",
            "    <manufacturer>\n",
            "      <name>Fancy Feast</name>\n",
            "    </manufacturer>\n",
            "    <contact>\n",
            "      <address class_=\"USA\">15 Popoki Lane…</address>\n",
            "    </contact>\n",
            "    <date>2020-01-01</date>\n",
            "  </catfood>\n",
            "</root>\n"
          ]
        }
      ],
      "source": [
        "import xml.etree.ElementTree as ET\n",
        "from xml.dom import minidom\n",
        "\n",
        "# Function to pretty-print the XML without excessive spaces or newlines\n",
        "def pretty_print_xml(elem):\n",
        "    raw_str = ET.tostring(elem, 'utf-8')\n",
        "    parsed = minidom.parseString(raw_str)\n",
        "    return \"\\n\".join([line for line in parsed.toprettyxml(indent=\"  \").splitlines() if line.strip()])\n",
        "\n",
        "# Create the initial XML content as a string\n",
        "xml_content = '''<root>\n",
        "  <catfood type=\"basic\">\n",
        "    <manufacturer>\n",
        "      <name>Purina</name>\n",
        "    </manufacturer>\n",
        "    <contact>\n",
        "      <address class=\"USA\">12 Cat Way…</address>\n",
        "    </contact>\n",
        "    <date>2019-10-01</date>\n",
        "  </catfood>\n",
        "</root>'''\n",
        "\n",
        "# Save the original XML content to a file\n",
        "with open('catfood.xml', 'w') as f:\n",
        "    f.write(xml_content)\n",
        "\n",
        "# Parse the original XML file\n",
        "tree = ET.parse('catfood.xml')\n",
        "root = tree.getroot()\n",
        "\n",
        "# Create a new catfood element\n",
        "new_catfood = ET.Element('catfood', type='wet')\n",
        "\n",
        "# Add manufacturer\n",
        "new_manufacturer = ET.SubElement(new_catfood, 'manufacturer')\n",
        "name = ET.SubElement(new_manufacturer, 'name')\n",
        "name.text = 'Fancy Feast'\n",
        "\n",
        "# Add contact\n",
        "new_contact = ET.SubElement(new_catfood, 'contact')\n",
        "address = ET.SubElement(new_contact, 'address', class_='USA')\n",
        "address.text = '15 Popoki Lane…'\n",
        "\n",
        "# Add the date\n",
        "new_date = ET.SubElement(new_catfood, 'date')\n",
        "new_date.text = '2020-01-01'\n",
        "\n",
        "# Append the new catfood element to the root\n",
        "root.append(new_catfood)\n",
        "\n",
        "# Apply pretty-printing to the updated XML structure\n",
        "pretty_xml_str = pretty_print_xml(root)\n",
        "\n",
        "# Print the pretty-printed version of the updated XML\n",
        "print(f'\\nNew XML (Pretty Printed):\\n{pretty_xml_str}')\n",
        "\n",
        "# Save the pretty-printed XML back to the file\n",
        "with open('catfood.xml', 'w') as f:\n",
        "    f.write(pretty_xml_str)\n"
      ]
    }
  ]
}