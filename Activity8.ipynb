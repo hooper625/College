{
  "nbformat": 4,
  "nbformat_minor": 0,
  "metadata": {
    "colab": {
      "provenance": [],
      "authorship_tag": "ABX9TyNIX4r+/aNFRDjPUtZgOMbH",
      "include_colab_link": true
    },
    "kernelspec": {
      "name": "python3",
      "display_name": "Python 3"
    },
    "language_info": {
      "name": "python"
    }
  },
  "cells": [
    {
      "cell_type": "markdown",
      "metadata": {
        "id": "view-in-github",
        "colab_type": "text"
      },
      "source": [
        "<a href=\"https://colab.research.google.com/github/hooper625/College/blob/main/Activity8.ipynb\" target=\"_parent\"><img src=\"https://colab.research.google.com/assets/colab-badge.svg\" alt=\"Open In Colab\"/></a>"
      ]
    },
    {
      "cell_type": "code",
      "execution_count": 5,
      "metadata": {
        "colab": {
          "base_uri": "https://localhost:8080/"
        },
        "id": "DvsWuUedvVn8",
        "outputId": "e9cfc6a4-c88e-4bde-d992-98a8102d1f42"
      },
      "outputs": [
        {
          "output_type": "stream",
          "name": "stdout",
          "text": [
            "DataFrame with Square Roots:\n",
            "          a         b         c\n",
            "1  6.480741  6.480741  8.426150\n",
            "2  8.544004  1.414214  2.828427\n",
            "3  9.643651  6.000000  9.797959\n",
            "4  5.477226  9.110434  3.872983\n",
            "5  7.280110  5.744563  2.828427\n",
            "Summation of Each Row:\n",
            "1    21.387631\n",
            "2    12.786644\n",
            "3    25.441610\n",
            "4    18.460643\n",
            "5    15.853100\n",
            "dtype: float64\n"
          ]
        }
      ],
      "source": [
        "import numpy as np\n",
        "import pandas as pd\n",
        "import math\n",
        "\n",
        "#Create a numpy array of the shape (3,5) with random values from 1 to 100\n",
        "array = np.random.randint(1, 100, (3, 5))\n",
        "#generate a Data Frame with index = a,b,c and columns 1.2,3,4,5.\n",
        "df = pd.DataFrame(array, index=['a', 'b', 'c'], columns=[1, 2, 3, 4, 5])\n",
        "#Transpose the DataFrame\n",
        "transposed = df.T\n",
        "#Apply a lambda function to calculate the square root of each value in the data frame.\n",
        "sqrtValues = transposed.map(lambda x: math.sqrt(x) if x > 0 else 0)\n",
        "print(\"DataFrame with Square Roots:\")\n",
        "print(sqrtValues)\n",
        "#find the summation of each row and display the results\n",
        "summation = sqrtValues.sum(axis=1)\n",
        "print(\"Summation of Each Row:\")\n",
        "print(summation)"
      ]
    }
  ]
}