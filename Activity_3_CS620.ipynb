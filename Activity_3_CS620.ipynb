{
  "nbformat": 4,
  "nbformat_minor": 0,
  "metadata": {
    "colab": {
      "provenance": [],
      "authorship_tag": "ABX9TyPnIeYDokzQhTKfJ64dkax1",
      "include_colab_link": true
    },
    "kernelspec": {
      "name": "python3",
      "display_name": "Python 3"
    },
    "language_info": {
      "name": "python"
    }
  },
  "cells": [
    {
      "cell_type": "markdown",
      "metadata": {
        "id": "view-in-github",
        "colab_type": "text"
      },
      "source": [
        "<a href=\"https://colab.research.google.com/github/hooper625/College/blob/main/Activity_3_CS620.ipynb\" target=\"_parent\"><img src=\"https://colab.research.google.com/assets/colab-badge.svg\" alt=\"Open In Colab\"/></a>"
      ]
    },
    {
      "cell_type": "code",
      "execution_count": 1,
      "metadata": {
        "colab": {
          "base_uri": "https://localhost:8080/",
          "height": 106
        },
        "id": "qyZK3lIWuAxy",
        "outputId": "7378ed9c-243b-418d-81ef-bc0f010d5ddf"
      },
      "outputs": [
        {
          "output_type": "error",
          "ename": "SyntaxError",
          "evalue": "invalid syntax (<ipython-input-1-7e41fe75efce>, line 1)",
          "traceback": [
            "\u001b[0;36m  File \u001b[0;32m\"<ipython-input-1-7e41fe75efce>\"\u001b[0;36m, line \u001b[0;32m1\u001b[0m\n\u001b[0;31m    Consider the two-dimensional array, arr2d.\u001b[0m\n\u001b[0m             ^\u001b[0m\n\u001b[0;31mSyntaxError\u001b[0m\u001b[0;31m:\u001b[0m invalid syntax\n"
          ]
        }
      ],
      "source": [
        "Consider the two-dimensional array, arr2d.\n",
        "\n",
        "arr2d = np.array([[1, 2, 3], [4, 5, 6], [7, 8, 9]])\n",
        "Write a code to slice this array to display the middle column,\n",
        "\n",
        "[2 5 8]\n",
        "Write a code to slice this array to display the last two elements of last column,\n",
        "\n",
        "[6 9]"
      ]
    },
    {
      "cell_type": "code",
      "source": [
        "#Consider the two-dimensional array, arr2d.\n",
        "import numpy as np\n",
        "arr2d = np.array([[1, 2, 3], [4, 5, 6], [7, 8, 9]])\n",
        "# slice this array to display the middle column,\n",
        "middle_column = arr2d[:, 1]\n",
        "print(middle_column)\n",
        "# slice this array to display the last two elements of last column,\n",
        "last_two_elements = arr2d[-2:, -1]\n",
        "print(last_two_elements)"
      ],
      "metadata": {
        "colab": {
          "base_uri": "https://localhost:8080/"
        },
        "id": "YkAhA-UYuKeT",
        "outputId": "a960fc01-cba3-4300-a371-20e905927422"
      },
      "execution_count": 3,
      "outputs": [
        {
          "output_type": "stream",
          "name": "stdout",
          "text": [
            "[2 5 8]\n",
            "[6 9]\n"
          ]
        }
      ]
    }
  ]
}