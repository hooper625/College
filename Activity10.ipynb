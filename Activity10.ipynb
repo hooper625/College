{
  "nbformat": 4,
  "nbformat_minor": 0,
  "metadata": {
    "colab": {
      "provenance": [],
      "authorship_tag": "ABX9TyPoiiTKDbFzPekxq2EHb1OJ",
      "include_colab_link": true
    },
    "kernelspec": {
      "name": "python3",
      "display_name": "Python 3"
    },
    "language_info": {
      "name": "python"
    }
  },
  "cells": [
    {
      "cell_type": "markdown",
      "metadata": {
        "id": "view-in-github",
        "colab_type": "text"
      },
      "source": [
        "<a href=\"https://colab.research.google.com/github/hooper625/College/blob/main/Activity10.ipynb\" target=\"_parent\"><img src=\"https://colab.research.google.com/assets/colab-badge.svg\" alt=\"Open In Colab\"/></a>"
      ]
    },
    {
      "cell_type": "code",
      "execution_count": 16,
      "metadata": {
        "colab": {
          "base_uri": "https://localhost:8080/"
        },
        "id": "4YF4wkq1GNex",
        "outputId": "d162f78f-e496-4f0d-e30a-3814e0fb4229"
      },
      "outputs": [
        {
          "output_type": "stream",
          "name": "stdout",
          "text": [
            "[197, 167, 188, 192, 161, 163, 186, 191, 182, 165, 199, 158, 170, 164, 171]\n",
            "[158, 161, 163, 164, 165, 167, 170, 171, 182, 186, 188, 191, 192, 197, 199]\n",
            "Data dictionary:\n",
            "       h\n",
            "0   158\n",
            "1   161\n",
            "2   163\n",
            "3   164\n",
            "4   165\n",
            "5   167\n",
            "6   170\n",
            "7   171\n",
            "8   182\n",
            "9   186\n",
            "10  188\n",
            "11  191\n",
            "12  192\n",
            "13  197\n",
            "14  199\n",
            "Systematic sample:\n",
            "       h\n",
            "0   158\n",
            "2   163\n",
            "4   165\n",
            "6   170\n",
            "8   182\n",
            "10  188\n",
            "12  192\n",
            "14  199\n"
          ]
        }
      ],
      "source": [
        "import random\n",
        "import pandas as pd\n",
        "\n",
        "#create a list of heights\n",
        "height = random.sample(range(150, 200), 15)\n",
        "print(height)\n",
        "#sorts the heights in acentding order\n",
        "height.sort()\n",
        "print(height)\n",
        "#create a column with h lable\n",
        "data = {'h': height}\n",
        "df= pd.DataFrame(data)\n",
        "print(\"Data dictionary:\\n\", df)\n",
        "\n",
        "#Systematic sampling\n",
        "def systematic_sampling(step):\n",
        "  return df.iloc[::step]\n",
        "\n",
        "systematic_sample = systematic_sampling(3)\n",
        "print(\"Systematic sample:\\n\", systematic_sample)"
      ]
    }
  ]
}