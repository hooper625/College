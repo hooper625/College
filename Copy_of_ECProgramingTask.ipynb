{
  "nbformat": 4,
  "nbformat_minor": 0,
  "metadata": {
    "colab": {
      "provenance": [],
      "toc_visible": true,
      "authorship_tag": "ABX9TyNAsaWJZTWP+ajUG49dA7dK",
      "include_colab_link": true
    },
    "kernelspec": {
      "name": "python3",
      "display_name": "Python 3"
    },
    "language_info": {
      "name": "python"
    }
  },
  "cells": [
    {
      "cell_type": "markdown",
      "metadata": {
        "id": "view-in-github",
        "colab_type": "text"
      },
      "source": [
        "<a href=\"https://colab.research.google.com/github/hooper625/College/blob/main/Copy_of_ECProgramingTask.ipynb\" target=\"_parent\"><img src=\"https://colab.research.google.com/assets/colab-badge.svg\" alt=\"Open In Colab\"/></a>"
      ]
    },
    {
      "cell_type": "code",
      "source": [
        "#Use the following equation to generate the tax amount\n",
        "\n",
        "#The Company Naukha's new CEO's salary is $350,000\n",
        "salary = 350000\n",
        "\n",
        "# Use the python multiple assignment to assign values for S, R and A.\n",
        "S, R, A = 300001, 0.32, 60400\n",
        "\n",
        "def calculate_tax(salary):\n",
        "    # tax = (350,000 – 300,001) x 32% + 60,400 = $76,399.68\n",
        "    tax = (salary - S) * R + A\n",
        "    return tax\n",
        "\n",
        "\n",
        "tax_amount = calculate_tax(salary)\n",
        "print(f\"The calculated tax for a salary of ${salary} is ${tax_amount:.2f}\")\n"
      ],
      "metadata": {
        "colab": {
          "base_uri": "https://localhost:8080/"
        },
        "id": "FFvSACSslmAR",
        "outputId": "e5a68341-fed5-460c-b67f-bae14181227a"
      },
      "execution_count": null,
      "outputs": [
        {
          "output_type": "stream",
          "name": "stdout",
          "text": [
            "The calculated tax for a salary of $350000 is $76399.68\n"
          ]
        }
      ]
    }
  ]
}