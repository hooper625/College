{
  "nbformat": 4,
  "nbformat_minor": 0,
  "metadata": {
    "colab": {
      "provenance": [],
      "authorship_tag": "ABX9TyNinEyLkZCGtzj8oAGYYYZ8",
      "include_colab_link": true
    },
    "kernelspec": {
      "name": "python3",
      "display_name": "Python 3"
    },
    "language_info": {
      "name": "python"
    }
  },
  "cells": [
    {
      "cell_type": "markdown",
      "metadata": {
        "id": "view-in-github",
        "colab_type": "text"
      },
      "source": [
        "<a href=\"https://colab.research.google.com/github/hooper625/College/blob/main/Copy_of_EC1_415.ipynb\" target=\"_parent\"><img src=\"https://colab.research.google.com/assets/colab-badge.svg\" alt=\"Open In Colab\"/></a>"
      ]
    },
    {
      "cell_type": "code",
      "execution_count": null,
      "metadata": {
        "colab": {
          "base_uri": "https://localhost:8080/"
        },
        "id": "JpG0OTCfNwny",
        "outputId": "e5f0d361-a711-4c15-8555-cfd7d09b7e3c"
      },
      "outputs": [
        {
          "output_type": "stream",
          "name": "stdout",
          "text": [
            "Enter the value of X: 57\n",
            "The Result of the First Equation is: 9577\n",
            "The Result of the Second Equation is: 0.16428571428571428\n"
          ]
        }
      ],
      "source": [
        "x = float(input('Enter the value of X: '))\n",
        "\n",
        "def EQ1(x):\n",
        "    result = 3*pow(x, 2) - (3*x) + 1\n",
        "    return int(result) if result.is_integer() else result\n",
        "\n",
        "def EQ3(x):\n",
        "    result = (x-11)/(5*x-5)\n",
        "    return int(result) if result.is_integer() else result\n",
        "\n",
        "print(f'The Result of the First Equation is: {EQ1(x)}')\n",
        "print(f'The Result of the Second Equation is: {EQ3(x)}')"
      ]
    }
  ]
}